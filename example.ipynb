{
 "cells": [
  {
   "attachments": {},
   "cell_type": "markdown",
   "metadata": {},
   "source": [
    "### This is just an example of how current version can be used"
   ]
  },
  {
   "cell_type": "code",
   "execution_count": null,
   "metadata": {},
   "outputs": [],
   "source": [
    "from synaptics import * # Synaptics includes import of layers and numpy\n",
    "from visual_env import *\n",
    "from stats import *"
   ]
  },
  {
   "attachments": {},
   "cell_type": "markdown",
   "metadata": {},
   "source": [
    "#### Let's build our model\n",
    "In current version, the model as a single object is not implemented, so we basically create layers of neurons and synapses.\n",
    "<br/>We will use a frame 5 by 5 as visual environment, and the object is a oblique line that moves in two directions (left-right, up-down, doesn't really matter because of it's symmetry)"
   ]
  },
  {
   "cell_type": "code",
   "execution_count": null,
   "metadata": {},
   "outputs": [],
   "source": [
    "frame_size = 5,5 # define the frame size\n",
    "\n",
    "input_size = frame_size[0] * frame_size[1] # area of the frame is equal to amount of input neurons\n",
    "output_size = 1 # the model will have only one neuron in this case. It should fire when familiar pattern is spotted\n",
    "resolution = .1 # this parameter describes how often neural dynamics data is updated\n",
    "preset = 'RS' # the type of neuron's dynamics from Izhikevich paper - https://ieeexplore.ieee.org/document/1257420\n",
    "tau = 30 # characteristic time of STDP. In current version, this variable is integrated in neuron's model. Later it probably will be moved to Synapse\n",
    "\n",
    "# Creating layers themselves, we will have two of them:\n",
    "input_layer = IzhikevichLayer(size=input_size, resolution=resolution, tau=tau,\n",
    "                              preset=preset, noize=1)\n",
    "output_layer = IzhikevichLayer(size=output_size, resolution=resolution, tau=tau,\n",
    "                               preset=preset, noize=1)\n",
    "\n",
    "# Creating connections between layers (e.g. synapses):\n",
    "synapse = Synapse(input_layer, output_layer)\n",
    "\n",
    "# We will set all weights to 1. Empirically, that is the best way to train such model:\n",
    "synapse.weights *= 0\n",
    "synapse.weights += 1\n",
    "\n",
    "print(synapse.weights.T)\n",
    "\n",
    "g = 47 # this parameter scales the impact of presynaptic action potentials to postsynaptic activation\n",
    "input_layer.transmitter_impact = g\n",
    "print(synapse.weights.reshape(5,5))"
   ]
  },
  {
   "attachments": {},
   "cell_type": "markdown",
   "metadata": {},
   "source": [
    "Our moving pattern will be an oblique line"
   ]
  },
  {
   "cell_type": "code",
   "execution_count": null,
   "metadata": {},
   "outputs": [],
   "source": [
    "vis = motion_pic(size=frame_size) # Creating the visual field\n",
    "pattern = np.eye(5)* 15\n",
    "vis.add_object(pattern) # Adding the patern\n",
    "vis.set_position_lazy(x='centered', y='centered')\n",
    "print(f'This is how our pattern looks like: \\n', vis.show_current_state())"
   ]
  },
  {
   "cell_type": "code",
   "execution_count": null,
   "metadata": {},
   "outputs": [],
   "source": [
    "vis.set_position_lazy(x='left', y='centered') # let's say, we aregoing to move our pattern from left to the right"
   ]
  },
  {
   "cell_type": "code",
   "execution_count": null,
   "metadata": {},
   "outputs": [],
   "source": [
    "# these objects will help us to estimate firing rates:\n",
    "rates0 = rate_capture(input_layer)\n",
    "rates1 = rate_capture(output_layer)"
   ]
  },
  {
   "cell_type": "code",
   "execution_count": null,
   "metadata": {},
   "outputs": [],
   "source": [
    "# Notice that hyperparameters are not at optimal value. Tuning them is in my to-do list\n",
    "# As well as annotating the rest of the code\n",
    "def train_model(t, vis, rates1, resolution=.1, delay=4,\n",
    "                 gather_data = True, train=False, lr = .01, alpha = 5):\n",
    "    time = int(t / resolution)\n",
    "    pattern_delay = int(delay/ resolution)\n",
    "    directions = 'right',\n",
    "    positions = 'left',\n",
    "    v1_right = []\n",
    "    v1_left = []\n",
    "    v0_right = []\n",
    "    v0_left = []\n",
    "    weights_hist = []\n",
    "    direction = directions[0]\n",
    "    position = positions[0]\n",
    "\n",
    "    vis.set_position_lazy(x='left', y='centered')\n",
    "    print(f'Moving pattern to the {direction}')\n",
    "    for j in range(time):\n",
    "        synapse.forward()\n",
    "        picture = vis.tick(delay=pattern_delay, move_direction=direction, noise_density=.1, noise_acceleration=5, rest=int(120/resolution))\n",
    "        input_layer.apply_current(picture.flatten())\n",
    "        output_layer.forward()\n",
    "        rates0.accumulate_spikes()\n",
    "        rates1.accumulate_spikes()\n",
    "        if train:\n",
    "            synapse.STDP(learning_rate=lr, assymetry=alpha)\n",
    "        if gather_data:\n",
    "            if direction == 'right':\n",
    "                v0_right.append(input_layer.v.tolist())\n",
    "                v1_right.append(output_layer.v.item())\n",
    "            if direction == 'left':\n",
    "                v0_left.append(input_layer.v.tolist())\n",
    "                v1_left.append(output_layer.v.item())\n",
    "            weights_hist.append(synapse.weights.tolist())\n",
    "            \n",
    "    input_layer.instant_rest()\n",
    "    output_layer.instant_rest()\n",
    "    r1 = rates1.compute_spike_rates(time=t, interval=1000)\n",
    "    rates0.reset()\n",
    "    rates1.reset()\n",
    "    print(f'{position}-{direction} direction output rates', r1)\n",
    "    print('Completed!')\n",
    "    return v0_right, v0_left, v1_right, v1_left, weights_hist"
   ]
  },
  {
   "cell_type": "code",
   "execution_count": null,
   "metadata": {},
   "outputs": [],
   "source": [
    "v0_right, v0_left, v1_right, v1_left, weights_hist = train_model(t=10000, vis=vis, rates1=rates1, train=True)\n",
    "weights_hist = np.array(weights_hist)\n",
    "v1_right = np.array(v1_right)\n",
    "v1_left = np.array(v1_left)"
   ]
  },
  {
   "cell_type": "code",
   "execution_count": null,
   "metadata": {},
   "outputs": [],
   "source": [
    "import matplotlib.pyplot as plt\n",
    "plt.plot(v0_right)\n",
    "plt.show()\n",
    "plt.plot(v1_right)\n",
    "plt.show()\n",
    "for i in range(input_size):\n",
    "    plt.plot(weights_hist[:,i])\n",
    "plt.show()"
   ]
  },
  {
   "cell_type": "code",
   "execution_count": null,
   "metadata": {},
   "outputs": [],
   "source": [
    "def test(t, vis, rates1, num_attempts=15, resolution=.1, delay=4):\n",
    "    time = int(t / resolution)\n",
    "    pattern_delay = int(delay/ resolution)\n",
    "    directions = 'right', 'left'\n",
    "    positions = 'left', 'right'\n",
    "    r_right = []\n",
    "    r_left = []\n",
    "\n",
    "    for d in range(len(directions)):\n",
    "        direction = directions[d]\n",
    "        position = positions[d]\n",
    "        for i in range(num_attempts):\n",
    "            vis.set_position_lazy(x=position, y='centered')\n",
    "            print(f'Moving pattern to the {direction}: attempt num {i}')\n",
    "            for j in range(time):\n",
    "                synapse.forward()\n",
    "                picture = vis.tick(delay=pattern_delay, move_direction=direction, noise_density=.1, noise_acceleration=5, rest=int(120/resolution))\n",
    "                input_layer.apply_current(picture.flatten())\n",
    "                output_layer.forward()\n",
    "                rates0.accumulate_spikes()\n",
    "                rates1.accumulate_spikes()\n",
    "            input_layer.instant_rest()\n",
    "            output_layer.instant_rest()\n",
    "            r1 = rates1.compute_spike_rates(time=t, interval=1000)\n",
    "            rates0.reset()\n",
    "            rates1.reset()\n",
    "            if direction == 'right':\n",
    "                r_right.append(r1.item())\n",
    "            else:\n",
    "                r_left.append(r1.item())\n",
    "    print('Completed!')\n",
    "    return r_right, r_left"
   ]
  },
  {
   "cell_type": "code",
   "execution_count": null,
   "metadata": {},
   "outputs": [],
   "source": [
    "input_layer.transmitter_impact = 47\n",
    "r_right, r_left = test(t=10000, vis=vis, rates1=rates1, num_attempts=15)"
   ]
  },
  {
   "cell_type": "code",
   "execution_count": null,
   "metadata": {},
   "outputs": [],
   "source": [
    "print(r_right)\n",
    "print(r_left)"
   ]
  },
  {
   "cell_type": "code",
   "execution_count": null,
   "metadata": {},
   "outputs": [],
   "source": []
  }
 ],
 "metadata": {
  "kernelspec": {
   "display_name": "Python 3",
   "language": "python",
   "name": "python3"
  },
  "language_info": {
   "codemirror_mode": {
    "name": "ipython",
    "version": 3
   },
   "file_extension": ".py",
   "mimetype": "text/x-python",
   "name": "python",
   "nbconvert_exporter": "python",
   "pygments_lexer": "ipython3",
   "version": "3.11.3"
  },
  "orig_nbformat": 4
 },
 "nbformat": 4,
 "nbformat_minor": 2
}
