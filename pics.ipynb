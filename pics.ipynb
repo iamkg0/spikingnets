{
 "cells": [
  {
   "cell_type": "code",
   "execution_count": null,
   "metadata": {},
   "outputs": [],
   "source": [
    "from main import *\n",
    "import matplotlib.pyplot as plt\n",
    "np.random.seed(42)"
   ]
  },
  {
   "cell_type": "code",
   "execution_count": null,
   "metadata": {},
   "outputs": [],
   "source": [
    "res = .1\n",
    "presyn = IzhikevichLayer(size = 2, resolution = res, tau=10)\n",
    "postsyn = IzhikevichLayer(size = 2, resolution = res, tau=10)\n",
    "syn = Synapse(presyn, postsyn)\n",
    "syn.weights *= 0\n",
    "syn.weights += 0.436\n",
    "print(syn.weights)"
   ]
  },
  {
   "cell_type": "code",
   "execution_count": null,
   "metadata": {},
   "outputs": [],
   "source": [
    "v0 = []\n",
    "v1 = []\n",
    "i0 = []\n",
    "i1 = []\n",
    "w0 = []\n",
    "presyn.apply_current([5,5])\n",
    "postsyn.apply_current([0,0])\n",
    "for i in range(int(150 / res)):\n",
    "    \n",
    "    syn.forward()\n",
    "    postsyn.apply_current([6.5,6])\n",
    "    postsyn.forward()\n",
    "    syn.STDP(.01, 5)\n",
    "    v0.append(presyn.v[1])\n",
    "    v1.append(postsyn.v[1])\n",
    "    i0.append(presyn.impulses[1])\n",
    "    i1.append(postsyn.impulses[1])\n",
    "    w0.append(syn.weights[1,1])\n",
    "x = np.arange(len(v0)) * res\n"
   ]
  },
  {
   "cell_type": "code",
   "execution_count": null,
   "metadata": {},
   "outputs": [],
   "source": [
    "fsize = (6, 4)\n",
    "dpi = 100\n",
    "vs = plt.figure(figsize=fsize, dpi=dpi)\n",
    "plt.title('Динамика трансмембранных потенциалов')\n",
    "plt.plot(x,v0)\n",
    "plt.plot(x,v1)\n",
    "plt.xlabel('t, msec', loc='right')\n",
    "plt.ylabel('v, mV')\n",
    "vs.legend(['Пресинаптический нейрон', 'Постсинаптический нейрон'], loc='right')\n",
    "vs.savefig('Izhikevich.png')\n",
    "#vs.show()\n",
    "ims = plt.figure(figsize=fsize, dpi=dpi)\n",
    "plt.title('Синаптический выход')\n",
    "plt.plot(x,i0)\n",
    "plt.plot(x, i1)\n",
    "plt.xlabel('t, msec', loc='right')\n",
    "#plt.ylabel()\n",
    "ims.legend(['Пресинаптический нейрон', 'Постсинаптический нейрон'], loc='right')\n",
    "ims.savefig('synaptic_output.png')\n",
    "#ims.show()\n",
    "ws = plt.figure(figsize=fsize, dpi=dpi)\n",
    "plt.title('Синаптическая пластичность')\n",
    "plt.plot(x,w0)\n",
    "plt.xlabel('t, msec', loc='right')\n",
    "plt.ylabel('w')\n",
    "ws.legend(['Сила синаптической связи'], loc='right')\n",
    "ws.savefig('weights.png')\n",
    "#ws.show()"
   ]
  },
  {
   "cell_type": "code",
   "execution_count": null,
   "metadata": {},
   "outputs": [],
   "source": [
    "print(syn.weights)"
   ]
  },
  {
   "cell_type": "code",
   "execution_count": null,
   "metadata": {},
   "outputs": [],
   "source": [
    "a = np.arange(3)\n",
    "a = np.tile(a, 2).reshape(2,3)\n",
    "c = np.array([[2,2]])\n",
    "print(a.shape, c.shape)\n",
    "a = a.T * c\n",
    "a"
   ]
  },
  {
   "cell_type": "code",
   "execution_count": null,
   "metadata": {},
   "outputs": [],
   "source": [
    "b = np.arange(2)\n",
    "b = np.tile(b, 3).reshape(3,2)\n",
    "c = np.array([2,2,2])\n",
    "print(b.shape, c.shape)\n",
    "b = np.array([c]).T * b\n",
    "b"
   ]
  },
  {
   "cell_type": "code",
   "execution_count": null,
   "metadata": {},
   "outputs": [],
   "source": [
    "a = np.arange(9)\n",
    "b = np.arange(9)\n",
    "c = a == b\n",
    "c = np.array([c]).astype(float)\n",
    "c"
   ]
  },
  {
   "cell_type": "code",
   "execution_count": null,
   "metadata": {},
   "outputs": [],
   "source": []
  }
 ],
 "metadata": {
  "kernelspec": {
   "display_name": "Python 3",
   "language": "python",
   "name": "python3"
  },
  "language_info": {
   "codemirror_mode": {
    "name": "ipython",
    "version": 3
   },
   "file_extension": ".py",
   "mimetype": "text/x-python",
   "name": "python",
   "nbconvert_exporter": "python",
   "pygments_lexer": "ipython3",
   "version": "3.10.7"
  },
  "orig_nbformat": 4,
  "vscode": {
   "interpreter": {
    "hash": "e9e4aeb526a565ffd4693a6d3e5bb349c4f2fc69ac8913d040f3e03574f8d726"
   }
  }
 },
 "nbformat": 4,
 "nbformat_minor": 2
}
