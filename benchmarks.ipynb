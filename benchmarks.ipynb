{
 "cells": [
  {
   "cell_type": "code",
   "execution_count": null,
   "metadata": {},
   "outputs": [],
   "source": [
    "from synaptics import *\n",
    "import matplotlib.pyplot as plt"
   ]
  },
  {
   "cell_type": "code",
   "execution_count": null,
   "metadata": {},
   "outputs": [],
   "source": [
    "res = .1\n",
    "layer = IzhikevichLayer(size=2, preset='RS', resolution=res)\n",
    "layer1 = IzhikevichLayer(size=2, preset='RS', resolution = res)\n",
    "synapse = Synapse(layer, layer1, tau=10)"
   ]
  },
  {
   "cell_type": "code",
   "execution_count": null,
   "metadata": {},
   "outputs": [],
   "source": [
    "a = [0, 14]\n",
    "b = [14, 0]\n",
    "#a = [0,0,0,0,0,9,9,9,9,9]\n",
    "#b = [9,9,9,9,9,0,0,0,0,0]\n",
    "#synapse.weights *= 0\n",
    "#synapse.weights += .5"
   ]
  },
  {
   "cell_type": "code",
   "execution_count": null,
   "metadata": {},
   "outputs": [],
   "source": [
    "w00 = []\n",
    "w01 = []\n",
    "w10 = []\n",
    "w11 = []\n",
    "v00 = []\n",
    "v01 = []\n",
    "v10 = []\n",
    "v11 = []\n",
    "layer.transmitter_impact = 300\n",
    "\n",
    "for i in range(3, 550):\n",
    "    if i%2 == 1:\n",
    "        layer.apply_current(a)\n",
    "        idx = 1\n",
    "    else:\n",
    "        layer.apply_current(b)\n",
    "        idx = 0\n",
    "    for i in range(int(250 / res)):\n",
    "        synapse.forward()\n",
    "        \n",
    "        layer1.I[idx] += 0\n",
    "        layer1.forward()\n",
    "        synapse.STDP(learning_rate=.1, assymetry=5)\n",
    "\n",
    "        v00.append(layer.v[0])\n",
    "        v01.append(layer.v[-1])\n",
    "        v10.append(layer1.v[0])\n",
    "        v11.append(layer1.v[1])\n",
    "        w00.append(synapse.weights[0,0])\n",
    "        w01.append(synapse.weights[0,1])\n",
    "        w10.append(synapse.weights[-1,0])\n",
    "        w11.append(synapse.weights[-1,1])\n",
    "\n",
    "length = list(range(int(len(v00))))"
   ]
  },
  {
   "cell_type": "code",
   "execution_count": null,
   "metadata": {},
   "outputs": [],
   "source": [
    "for i in range(10000):\n",
    "    layer.dynamics()\n",
    "    layer1.dynamics()"
   ]
  },
  {
   "cell_type": "code",
   "execution_count": null,
   "metadata": {},
   "outputs": [],
   "source": [
    "#plt.plot(v00)\n",
    "#plt.plot(length, v01)\n",
    "plt.plot(length, v10)\n",
    "plt.plot(length, v11)\n",
    "plt.show()\n",
    "#plt.plot(length, w00)\n",
    "#plt.plot(length, w01)\n",
    "#plt.plot(length, w10)\n",
    "plt.plot(length, w11)\n",
    "plt.show()"
   ]
  },
  {
   "cell_type": "code",
   "execution_count": null,
   "metadata": {},
   "outputs": [],
   "source": []
  },
  {
   "cell_type": "code",
   "execution_count": null,
   "metadata": {},
   "outputs": [],
   "source": []
  }
 ],
 "metadata": {
  "kernelspec": {
   "display_name": "Python 3",
   "language": "python",
   "name": "python3"
  },
  "language_info": {
   "codemirror_mode": {
    "name": "ipython",
    "version": 3
   },
   "file_extension": ".py",
   "mimetype": "text/x-python",
   "name": "python",
   "nbconvert_exporter": "python",
   "pygments_lexer": "ipython3",
   "version": "3.10.7"
  },
  "orig_nbformat": 4,
  "vscode": {
   "interpreter": {
    "hash": "e9e4aeb526a565ffd4693a6d3e5bb349c4f2fc69ac8913d040f3e03574f8d726"
   }
  }
 },
 "nbformat": 4,
 "nbformat_minor": 2
}
