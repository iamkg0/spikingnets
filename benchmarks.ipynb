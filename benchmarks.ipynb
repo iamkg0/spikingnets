{
 "cells": [
  {
   "cell_type": "code",
   "execution_count": 1,
   "metadata": {},
   "outputs": [],
   "source": [
    "from synaptics import *"
   ]
  },
  {
   "cell_type": "code",
   "execution_count": 2,
   "metadata": {},
   "outputs": [],
   "source": [
    "layer = IzhikevichLayer(size=10000, preset='CH', resolution=1)\n",
    "layer1 = IzhikevichLayer(size=10000, preset='CH', resolution = 1)\n",
    "synapse = Synapse(layer, layer1, tau=.2)\n",
    "layer.apply_current(np.ones(10000)*5)"
   ]
  },
  {
   "cell_type": "code",
   "execution_count": null,
   "metadata": {},
   "outputs": [],
   "source": []
  }
 ],
 "metadata": {
  "kernelspec": {
   "display_name": "Python 3",
   "language": "python",
   "name": "python3"
  },
  "language_info": {
   "codemirror_mode": {
    "name": "ipython",
    "version": 3
   },
   "file_extension": ".py",
   "mimetype": "text/x-python",
   "name": "python",
   "nbconvert_exporter": "python",
   "pygments_lexer": "ipython3",
   "version": "3.10.7 (tags/v3.10.7:6cc6b13, Sep  5 2022, 14:08:36) [MSC v.1933 64 bit (AMD64)]"
  },
  "orig_nbformat": 4,
  "vscode": {
   "interpreter": {
    "hash": "e9e4aeb526a565ffd4693a6d3e5bb349c4f2fc69ac8913d040f3e03574f8d726"
   }
  }
 },
 "nbformat": 4,
 "nbformat_minor": 2
}
