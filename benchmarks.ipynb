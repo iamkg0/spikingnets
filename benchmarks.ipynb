{
 "cells": [
  {
   "cell_type": "code",
   "execution_count": 1,
   "metadata": {},
   "outputs": [],
   "source": [
    "from layers import *\n",
    "from synaptics import *\n",
    "from visual_env import *\n",
    "from stats import *\n",
    "import numpy as np\n",
    "import matplotlib.pyplot as plt\n",
    "import matplotlib.animation as animation"
   ]
  },
  {
   "cell_type": "code",
   "execution_count": 2,
   "metadata": {},
   "outputs": [],
   "source": [
    "# PARAMETERS OF NETWORK:\n",
    "retina_size = (1, 10)\n",
    "resolution = .1\n",
    "input_layer_size = retina_size[0] * retina_size[1]\n",
    "output_layer_size = 1\n",
    "tau = 30\n",
    "triplet_tau = 0\n",
    "preset = 'RS'\n",
    "g_strength = 200"
   ]
  },
  {
   "cell_type": "code",
   "execution_count": 3,
   "metadata": {},
   "outputs": [],
   "source": [
    "layer0 = IzhikevichLayer(size=input_layer_size, resolution=resolution, tau=tau, preset=preset, noize=1)\n",
    "layer0.transmitter_impact = g_strength\n",
    "layer1 = IzhikevichLayer(size=output_layer_size, resolution=resolution, tau=tau, preset=preset, noize=1)\n",
    "synapse = Synapse(layer0, layer1)\n",
    "rates0 = rate_capture(layer0)\n",
    "rates1 = rate_capture(layer1)\n",
    "synapse.load_weights(name='checkpoints\\save10_1by3.npy')"
   ]
  },
  {
   "cell_type": "code",
   "execution_count": 4,
   "metadata": {},
   "outputs": [],
   "source": [
    "weights = np.zeros(input_layer_size*output_layer_size).reshape(1, input_layer_size, output_layer_size)\n",
    "pre_v = np.zeros(input_layer_size).reshape(1, input_layer_size)\n",
    "pre_syn = np.zeros(input_layer_size).reshape(1, input_layer_size)\n",
    "post_v = np.zeros(output_layer_size).reshape(1, output_layer_size)\n",
    "post_syn = np.zeros(output_layer_size).reshape(1, output_layer_size)\n",
    "rates0.reset()\n",
    "rates1.reset()"
   ]
  },
  {
   "cell_type": "code",
   "execution_count": 5,
   "metadata": {},
   "outputs": [
    {
     "name": "stdout",
     "output_type": "stream",
     "text": [
      "[[0. 0. 0. 0. 0. 0. 0. 0. 0. 0.]]\n",
      "[[ 0.  0.  0.  0.  0.  0.  0.  0.  0.  0.  0.  0.  0.  0.  0.  0.]\n",
      " [ 0.  0.  0.  0.  0.  0.  0.  0.  0.  0.  0.  0.  0. 25. 25. 25.]\n",
      " [ 0.  0.  0.  0.  0.  0.  0.  0.  0.  0.  0.  0.  0.  0.  0.  0.]]\n"
     ]
    }
   ],
   "source": [
    "vis = retina(size=retina_size)\n",
    "pattern = np.ones(3).reshape(1,3) * 25\n",
    "vis.add_object(pattern)\n",
    "vis.set_position_lazy(x='right', y='centered')\n",
    "state = vis.show_current_state()\n",
    "print(state)\n",
    "print(vis.buffer_screen)"
   ]
  },
  {
   "cell_type": "code",
   "execution_count": 6,
   "metadata": {},
   "outputs": [],
   "source": [
    "g_strength = 85\n",
    "layer0.transmitter_impact = g_strength\n",
    "\n",
    "t = 100\n",
    "time = int(t / resolution)\n",
    "lr = .01\n",
    "alpha = 5\n",
    "pattern_delay = int(4/ resolution)\n",
    "direction = 'left'\n",
    "gather_data = True\n",
    "learn = False\n",
    "\n",
    "for i in range(time):\n",
    "    synapse.forward()\n",
    "    picture = vis.tick(delay=pattern_delay, move_direction=direction, noize_density=.1, noize_acceleration=7, rest=int(220/resolution))\n",
    "    layer0.apply_current(picture.flatten())\n",
    "    layer1.forward()\n",
    "    rates0.accumulate_spikes()\n",
    "    rates1.accumulate_spikes()\n",
    "    if learn:\n",
    "        synapse.STDP(learning_rate=lr, assymetry=alpha)\n",
    "    #synapse.STDP(learning_rate=lr, assymetry=alpha)\n",
    "    if gather_data:\n",
    "        #weights = np.append(weights, np.array([synapse.weights]), axis=0)\n",
    "        pre_v = np.append(pre_v, np.array([layer0.v]), axis=0)\n",
    "        pre_syn = np.append(pre_syn, np.array([layer0.impulses]), axis=0)\n",
    "        post_v = np.append(post_v, np.array([layer1.v]), axis=0)\n",
    "        post_syn = np.append(post_syn, np.array([layer1.impulses]), axis=0)\n",
    "layer0.instant_rest()\n",
    "layer1.instant_rest()"
   ]
  },
  {
   "cell_type": "code",
   "execution_count": 9,
   "metadata": {},
   "outputs": [
    {
     "name": "stderr",
     "output_type": "stream",
     "text": [
      "c:\\Users\\iamkg0\\AppData\\Local\\Programs\\Python\\Python310\\lib\\site-packages\\matplotlib\\animation.py:879: UserWarning: Animation was deleted without rendering anything. This is most likely not intended. To prevent deletion, assign the Animation to a variable, e.g. `anim`, that exists until you output the Animation using `plt.show()` or `anim.save()`.\n",
      "  warnings.warn(\n"
     ]
    },
    {
     "data": {
      "image/png": "[encoded data removed]",
      "text/plain": [
       "<Figure size 640x480 with 1 Axes>"
      ]
     },
     "metadata": {},
     "output_type": "display_data"
    }
   ],
   "source": [
    "x_scale = np.arange(int(pre_v.shape[0])) * resolution\n",
    "def anim_pre_v():\n",
    "    for i in range(pre_v.shape[1]):\n",
    "        temp = np.array(pre_v[:, i]).flatten()\n",
    "        return temp[1:]\n",
    "\n",
    "\n",
    "\n",
    "\n",
    "fig, ax = plt.subplots()\n",
    "ax.set_xlim([0, 10])\n",
    "\n",
    "pl = ax.plot(1, 0)\n",
    "x = np.linspace(0, 10)\n",
    "\n",
    "\n",
    "ani = animation.FuncAnimation(fig, anim_pre_v(), repeat=True,\n",
    "                                    frames=len(x) - 1, interval=50)\n",
    "\n",
    "# To save the animation using Pillow as a gif\n",
    "# writer = animation.PillowWriter(fps=15,\n",
    "#                                 metadata=dict(artist='Me'),\n",
    "#                                 bitrate=1800)\n",
    "# ani.save('scatter.gif', writer=writer)\n",
    "\n",
    "plt.show()"
   ]
  },
  {
   "cell_type": "code",
   "execution_count": 9,
   "metadata": {},
   "outputs": [
    {
     "data": {
      "image/png": "[encoded data removed]",
      "text/plain": [
       "<Figure size 700x350 with 1 Axes>"
      ]
     },
     "metadata": {},
     "output_type": "display_data"
    }
   ],
   "source": [
    "import numpy as np\n",
    "import matplotlib.pyplot as plt\n",
    "import matplotlib.animation as animation\n",
    "\n",
    "fig, ax = plt.subplots()\n",
    "ax.set_xlim([0, 10])\n",
    "\n",
    "scat = ax.scatter(1, 0)\n",
    "x = np.linspace(0, 10)\n",
    "\n",
    "\n",
    "def animate(i):\n",
    "    scat.set_offsets((x[i], 0))\n",
    "    return scat,\n",
    "\n",
    "ani = animation.FuncAnimation(fig, animate, repeat=True,\n",
    "                                    frames=len(x) - 1, interval=50)\n",
    "\n",
    "# To save the animation using Pillow as a gif\n",
    "# writer = animation.PillowWriter(fps=15,\n",
    "#                                 metadata=dict(artist='Me'),\n",
    "#                                 bitrate=1800)\n",
    "# ani.save('scatter.gif', writer=writer)\n",
    "\n",
    "plt.show()"
   ]
  },
  {
   "cell_type": "code",
   "execution_count": null,
   "metadata": {},
   "outputs": [],
   "source": []
  }
 ],
 "metadata": {
  "kernelspec": {
   "display_name": "Python 3",
   "language": "python",
   "name": "python3"
  },
  "language_info": {
   "codemirror_mode": {
    "name": "ipython",
    "version": 3
   },
   "file_extension": ".py",
   "mimetype": "text/x-python",
   "name": "python",
   "nbconvert_exporter": "python",
   "pygments_lexer": "ipython3",
   "version": "3.10.7"
  },
  "orig_nbformat": 4,
  "vscode": {
   "interpreter": {
    "hash": "e9e4aeb526a565ffd4693a6d3e5bb349c4f2fc69ac8913d040f3e03574f8d726"
   }
  }
 },
 "nbformat": 4,
 "nbformat_minor": 2
}
