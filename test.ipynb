{
 "cells": [
  {
   "cell_type": "code",
   "execution_count": null,
   "metadata": {},
   "outputs": [],
   "source": [
    "from layers import *\n",
    "from synaptics import *\n",
    "from visual_env import *\n",
    "import numpy as np\n",
    "import matplotlib.pyplot as plt\n",
    "\n",
    "# PARAMETERS OF NETWORK:\n",
    "retina_size = (5, 5)\n",
    "resolution = .1\n",
    "input_layer_size = retina_size[0] * retina_size[1]\n",
    "output_layer_size = 1\n",
    "tau = 30\n",
    "triplet_tau = 0\n",
    "preset = 'RS'\n",
    "g_strength = 200"
   ]
  },
  {
   "cell_type": "code",
   "execution_count": null,
   "metadata": {},
   "outputs": [],
   "source": [
    "layer0 = IzhikevichLayer(size=input_layer_size, resolution=resolution, tau=tau, preset=preset)\n",
    "layer0.transmitter_impact = g_strength\n",
    "layer1 = IzhikevichLayer(size=output_layer_size, resolution=resolution, tau=tau, preset=preset)\n",
    "synapse = Synapse(layer0, layer1)\n",
    "synapse.load_weights(name='checkpoints\\qwe.npy')"
   ]
  },
  {
   "cell_type": "code",
   "execution_count": null,
   "metadata": {},
   "outputs": [],
   "source": [
    "layer0 = IzhikevichLayer(size=input_layer_size, resolution=resolution, tau=tau, preset=preset)\n",
    "layer0.transmitter_impact = g_strength\n",
    "layer1 = IzhikevichLayer(size=output_layer_size, resolution=resolution, tau=tau, preset=preset)\n",
    "synapse = Synapse(layer0, layer1)\n",
    "synapse.weights_init(mode='all_05')"
   ]
  },
  {
   "cell_type": "code",
   "execution_count": null,
   "metadata": {},
   "outputs": [],
   "source": [
    "''' CAREFULLY! '''"
   ]
  },
  {
   "cell_type": "code",
   "execution_count": null,
   "metadata": {},
   "outputs": [],
   "source": [
    "weights = np.zeros(input_layer_size).reshape(1, input_layer_size, output_layer_size)\n",
    "pre_v = np.zeros(input_layer_size).reshape(1, input_layer_size)\n",
    "pre_syn = np.zeros(input_layer_size).reshape(1, input_layer_size)\n",
    "post_v = np.zeros(output_layer_size).reshape(1, output_layer_size)\n",
    "post_syn = np.zeros(output_layer_size).reshape(1, output_layer_size)"
   ]
  },
  {
   "cell_type": "code",
   "execution_count": null,
   "metadata": {},
   "outputs": [],
   "source": [
    "vis = retina(size=retina_size)\n",
    "pattern = np.ones(3).reshape(1,3) * 6\n",
    "vis.add_object(pattern)\n",
    "vis.set_position_lazy(x='right', y='centered')\n",
    "state = vis.show_current_state()\n",
    "print(state)\n",
    "print(vis.buffer_screen)"
   ]
  },
  {
   "cell_type": "code",
   "execution_count": null,
   "metadata": {},
   "outputs": [],
   "source": [
    "g_strength = 152\n",
    "layer0.transmitter_impact = g_strength\n",
    "\n",
    "t = 1000\n",
    "time = int(t / resolution)\n",
    "lr = .01\n",
    "alpha = 5\n",
    "pattern_delay = int(5 / resolution)\n",
    "direction = 'left'\n",
    "gather_data = True\n",
    "\n",
    "for i in range(time):\n",
    "    synapse.forward()\n",
    "    picture = vis.tick(delay=pattern_delay, move_direction=direction, noize_density=.1, noize_acceleration=0, rest=int(200/resolution))\n",
    "    layer0.apply_current(picture.flatten())\n",
    "    layer1.forward()\n",
    "    #synapse.STDP(learning_rate=lr, assymetry=alpha)\n",
    "    if gather_data:\n",
    "        weights = np.append(weights, np.array([synapse.weights]), axis=0)\n",
    "        pre_v = np.append(pre_v, np.array([layer0.v]), axis=0)\n",
    "        pre_syn = np.append(pre_syn, np.array([layer0.impulses]), axis=0)\n",
    "        post_v = np.append(post_v, np.array([layer1.v]), axis=0)\n",
    "        post_syn = np.append(post_syn, np.array([layer1.impulses]), axis=0)\n",
    "    else:\n",
    "        synapse.STDP(learning_rate=lr, assymetry=alpha)\n",
    "layer0.instant_rest()\n",
    "layer1.instant_rest()"
   ]
  },
  {
   "cell_type": "code",
   "execution_count": null,
   "metadata": {},
   "outputs": [],
   "source": [
    "temp = None\n",
    "x_scale = np.arange(int(weights.shape[0])) * resolution\n",
    "for i in range(weights.shape[1]):\n",
    "    temp = np.array(weights[:,i]).flatten()\n",
    "    plt.plot(x_scale[1:], temp[1:])\n",
    "plt.show()\n",
    "for i in range(pre_v.shape[1]):\n",
    "    temp = np.array(pre_v[:, i]).flatten()\n",
    "    plt.plot(x_scale[1:], temp[1:])\n",
    "plt.show()\n",
    "for i in range(post_v.shape[1]):\n",
    "    temp = np.array(post_v[:, i]).flatten()\n",
    "    plt.plot(x_scale[1:], temp[1:])\n",
    "plt.show()\n",
    "for i in range(pre_syn.shape[1]):\n",
    "    temp = np.array(pre_syn[:, i]).flatten()\n",
    "    plt.plot(x_scale[1:], temp[1:])\n",
    "plt.show()\n",
    "for i in range(post_syn.shape[1]):\n",
    "    temp = np.array(post_syn[:, i]).flatten()\n",
    "    plt.plot(x_scale[1:], temp[1:])\n",
    "plt.show()"
   ]
  },
  {
   "cell_type": "code",
   "execution_count": null,
   "metadata": {},
   "outputs": [],
   "source": []
  },
  {
   "cell_type": "code",
   "execution_count": null,
   "metadata": {},
   "outputs": [],
   "source": []
  }
 ],
 "metadata": {
  "kernelspec": {
   "display_name": "Python 3",
   "language": "python",
   "name": "python3"
  },
  "language_info": {
   "codemirror_mode": {
    "name": "ipython",
    "version": 3
   },
   "file_extension": ".py",
   "mimetype": "text/x-python",
   "name": "python",
   "nbconvert_exporter": "python",
   "pygments_lexer": "ipython3",
   "version": "3.10.7"
  },
  "orig_nbformat": 4,
  "vscode": {
   "interpreter": {
    "hash": "e9e4aeb526a565ffd4693a6d3e5bb349c4f2fc69ac8913d040f3e03574f8d726"
   }
  }
 },
 "nbformat": 4,
 "nbformat_minor": 2
}
