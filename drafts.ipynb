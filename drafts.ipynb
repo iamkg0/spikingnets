{
 "cells": [
  {
   "cell_type": "code",
   "execution_count": 1,
   "metadata": {},
   "outputs": [],
   "source": [
    "import numpy as np\n",
    "import matplotlib.pyplot as plt"
   ]
  },
  {
   "cell_type": "code",
   "execution_count": 2,
   "metadata": {},
   "outputs": [],
   "source": [
    "class HodjkinHuxley:\n",
    "    def __init__(self):\n",
    "        pass"
   ]
  },
  {
   "cell_type": "code",
   "execution_count": 1,
   "metadata": {},
   "outputs": [],
   "source": [
    "import math"
   ]
  },
  {
   "cell_type": "code",
   "execution_count": 36,
   "metadata": {},
   "outputs": [],
   "source": [
    "class car:\n",
    "    def __init__(self):\n",
    "        self.health = 100\n",
    "        self.current_speed = 0\n",
    "        self.acceleration = 20\n",
    "\n",
    "    def accelerate(self, power=1):\n",
    "        self.current_speed += self.acceleration * power\n",
    "\n",
    "    def stop(self, power=1):\n",
    "        self.current_speed *= power\n",
    "        self.current_speed = round(self.current_speed, 5)\n",
    "\n",
    "    def crash(self):\n",
    "        self.health //= math.log(self.current_speed)"
   ]
  },
  {
   "cell_type": "code",
   "execution_count": 37,
   "metadata": {},
   "outputs": [
    {
     "name": "stdout",
     "output_type": "stream",
     "text": [
      "20\n",
      "40\n",
      "60\n",
      "80\n",
      "100\n",
      "120\n",
      "140\n",
      "160\n",
      "180\n",
      "200\n",
      "180.0\n",
      "162.0\n",
      "145.8\n",
      "131.22\n",
      "118.098\n",
      "106.2882\n",
      "95.65938\n",
      "86.09344\n",
      "77.4841\n",
      "69.73569\n",
      "23.0\n"
     ]
    }
   ],
   "source": [
    "c = car()\n",
    "for i in range(10):\n",
    "    c.accelerate(power=1)\n",
    "    print(c.current_speed)\n",
    "for i in range(10):\n",
    "    c.stop(power=.9)\n",
    "    print(c.current_speed)\n",
    "c.crash()\n",
    "print(c.health)"
   ]
  },
  {
   "cell_type": "code",
   "execution_count": null,
   "metadata": {},
   "outputs": [],
   "source": []
  }
 ],
 "metadata": {
  "kernelspec": {
   "display_name": "Python 3",
   "language": "python",
   "name": "python3"
  },
  "language_info": {
   "codemirror_mode": {
    "name": "ipython",
    "version": 3
   },
   "file_extension": ".py",
   "mimetype": "text/x-python",
   "name": "python",
   "nbconvert_exporter": "python",
   "pygments_lexer": "ipython3",
   "version": "3.10.7 (tags/v3.10.7:6cc6b13, Sep  5 2022, 14:08:36) [MSC v.1933 64 bit (AMD64)]"
  },
  "orig_nbformat": 4,
  "vscode": {
   "interpreter": {
    "hash": "e9e4aeb526a565ffd4693a6d3e5bb349c4f2fc69ac8913d040f3e03574f8d726"
   }
  }
 },
 "nbformat": 4,
 "nbformat_minor": 2
}
